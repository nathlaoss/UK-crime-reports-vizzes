{
 "cells": [
  {
   "cell_type": "code",
   "execution_count": 3,
   "id": "fcf2330e",
   "metadata": {},
   "outputs": [],
   "source": [
    "import pandas as pd\n",
    "import glob\n",
    "import os"
   ]
  },
  {
   "cell_type": "code",
   "execution_count": 4,
   "id": "1db05db6",
   "metadata": {},
   "outputs": [],
   "source": [
    "# data came in folders for each month, so first I will merge files inside each folder, then merge the merged files\n",
    "folders_list=os.listdir(\"C:\\\\Users\\\\nathl\\\\Documents\\\\projects\\\\crime_and_policing\\\\data\\\\\")\n",
    "\n",
    "combined_csv=[0 for i in range(len(folders_list))]"
   ]
  },
  {
   "cell_type": "code",
   "execution_count": 5,
   "id": "93e3af8f",
   "metadata": {},
   "outputs": [],
   "source": [
    "for i in range(len(folders_list)):\n",
    "    os.chdir(\"C:\\\\Users\\\\nathl\\\\Documents\\\\projects\\\\crime_and_policing\\\\data\\\\\"+folders_list[i])\n",
    "\n",
    "    extension = 'csv'\n",
    "    all_filenames = [j for j in glob.glob('*.{}'.format(extension))]\n",
    "    \n",
    "    combined_csv[i] = pd.concat([pd.read_csv(f) for f in all_filenames ])"
   ]
  },
  {
   "cell_type": "code",
   "execution_count": 6,
   "id": "32cf81a1",
   "metadata": {},
   "outputs": [],
   "source": [
    "merged=combined_csv[0]\n",
    "for i in range(1,len(combined_csv)):\n",
    "    merged=pd.concat([merged,combined_csv[i]])"
   ]
  },
  {
   "cell_type": "code",
   "execution_count": 7,
   "id": "9560d9de",
   "metadata": {},
   "outputs": [],
   "source": [
    "df=pd.DataFrame(merged)"
   ]
  },
  {
   "cell_type": "code",
   "execution_count": 8,
   "id": "1fb77309",
   "metadata": {},
   "outputs": [],
   "source": [
    "# inserting a column of '1' values for each row for easier operations in Tableau\n",
    "lis=[1 for i in range(len(df))]\n",
    "df.insert(0,'Fill number',lis,True)"
   ]
  },
  {
   "cell_type": "code",
   "execution_count": 10,
   "id": "4e73f858",
   "metadata": {},
   "outputs": [
    {
     "name": "stdout",
     "output_type": "stream",
     "text": [
      "<class 'pandas.core.frame.DataFrame'>\n",
      "Int64Index: 18890880 entries, 0 to 4692\n",
      "Data columns (total 13 columns):\n",
      " #   Column                 Dtype  \n",
      "---  ------                 -----  \n",
      " 0   Fill number            int64  \n",
      " 1   Crime ID               object \n",
      " 2   Month                  object \n",
      " 3   Reported by            object \n",
      " 4   Falls within           object \n",
      " 5   Longitude              float64\n",
      " 6   Latitude               float64\n",
      " 7   Location               object \n",
      " 8   LSOA code              object \n",
      " 9   LSOA name              object \n",
      " 10  Crime type             object \n",
      " 11  Last outcome category  object \n",
      " 12  Context                float64\n",
      "dtypes: float64(3), int64(1), object(9)\n",
      "memory usage: 2.0+ GB\n"
     ]
    }
   ],
   "source": [
    "df.info()"
   ]
  },
  {
   "cell_type": "code",
   "execution_count": 28,
   "id": "7e945b52",
   "metadata": {},
   "outputs": [],
   "source": [
    "df.to_csv(\"combined_csv.csv\", index=False, encoding='utf-8-sig')"
   ]
  }
 ],
 "metadata": {
  "kernelspec": {
   "display_name": "Python 3 (ipykernel)",
   "language": "python",
   "name": "python3"
  },
  "language_info": {
   "codemirror_mode": {
    "name": "ipython",
    "version": 3
   },
   "file_extension": ".py",
   "mimetype": "text/x-python",
   "name": "python",
   "nbconvert_exporter": "python",
   "pygments_lexer": "ipython3",
   "version": "3.9.12"
  }
 },
 "nbformat": 4,
 "nbformat_minor": 5
}
